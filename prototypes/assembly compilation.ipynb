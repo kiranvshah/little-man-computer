{
 "cells": [
  {
   "cell_type": "markdown",
   "metadata": {},
   "source": [
    "A user-written, uncompiled code as received by the Python server:  \n",
    "(example program from: https://github.com/pbrinkmeier/lmc-emulator/blob/master/README.md)"
   ]
  },
  {
   "cell_type": "code",
   "execution_count": null,
   "metadata": {},
   "outputs": [],
   "source": [
    "\"\"\"// store an input\n",
    "// at position first\n",
    "INP\n",
    "STA first\n",
    "// store an input at\n",
    "// position second\n",
    "INP\n",
    "STA second\n",
    "// load the first value\n",
    "LDA first\n",
    "// subtract the\n",
    "// second\n",
    "SUB second\n",
    "// output the difference\n",
    "// and halt execution\n",
    "OUT\n",
    "HLT\n",
    "\n",
    "// use the DAT command to create to 'variables' called first and second, and set them both to 0\n",
    "first DAT 000\n",
    "second DAT 000\"\"\""
   ]
  },
  {
   "cell_type": "markdown",
   "metadata": {},
   "source": [
    "Will get processed into the following data structure. This will not be sent back to the frontend, but instead is just a cleaned-up, more readable version of the above (to make it easier for the Python backend to process)."
   ]
  },
  {
   "cell_type": "code",
   "execution_count": null,
   "metadata": {},
   "outputs": [],
   "source": [
    "[\n",
    "    {\n",
    "        \"command\": \"INP\",\n",
    "    },\n",
    "    {\n",
    "        \"use_label\": \"first\",\n",
    "        \"command\": \"STA\",\n",
    "    },\n",
    "    {\n",
    "        \"command\": \"INP\",\n",
    "    },\n",
    "    {\n",
    "        \"use_label\": \"second\",\n",
    "        \"command\": \"STA\",\n",
    "    },\n",
    "    {\n",
    "        \"use_label\": \"first\",\n",
    "        \"command\": \"LDA\",\n",
    "    },\n",
    "    {\n",
    "        \"use_label\": \"first\",\n",
    "        \"command\": \"SUB\",\n",
    "    },\n",
    "    {\n",
    "        \"command\": \"OUT\",\n",
    "    },\n",
    "    {\n",
    "        \"command\": \"HLT\",\n",
    "    },\n",
    "    {\n",
    "        \"create_label\": \"first\",\n",
    "        \"command\": \"DAT\",\n",
    "        \"value\": \"000\",\n",
    "    },\n",
    "    {\n",
    "        \"create_label\": \"second\",\n",
    "        \"command\": \"DAT\",\n",
    "        \"value\": \"000\",\n",
    "    },\n",
    "]"
   ]
  },
  {
   "cell_type": "markdown",
   "metadata": {},
   "source": [
    "This will then be processed by the Python backend to generate the following data structure, will be the response of the original POST request (i.e. be sent back to frontend).\n",
    "\n",
    "`compiled_code` is effectively the original user-written code, but with comments removed and labels turned into memory addresses. The `compiled_code` for this example was copied from https://peterhigginson.co.uk/LMC.\n",
    "\n",
    "Also note how all memory addresses and values, which are numbers, are stored as strings, as this is how the frontend will process them, and we will not lose any leading zeroes."
   ]
  },
  {
   "cell_type": "code",
   "execution_count": null,
   "metadata": {},
   "outputs": [],
   "source": [
    "{\n",
    "    \"compiled_code\": [ \n",
    "        \"00 INP\",\n",
    "        \"01 STA 08\",\n",
    "        \"02 INP\",\n",
    "        \"03 STA 09\",\n",
    "        \"04 LDA 08\",\n",
    "        \"05 SUB 09\",\n",
    "        \"06 OUT\",\n",
    "        \"07 HLT\",\n",
    "        \"08 DAT 000\",\n",
    "        \"09 DAT 000\",\n",
    "    ],\n",
    "    \"memory_and_registers\": {\n",
    "        \"memory\": {\n",
    "            # entire program compiled into memory\n",
    "            \"00\": \"901\",\n",
    "            \"01\": \"308\",\n",
    "            \"02\": \"901\",\n",
    "            # locations 3-5 omitted for brevity\n",
    "            \"06\": \"902\",\n",
    "            \"07\": \"000\", # note the code for HLT is 000\n",
    "\n",
    "            # variables:\n",
    "            \"08\": \"000\", # this is the `first` variable\n",
    "            \"09\": \"000\", # this is the `second` variable\n",
    "\n",
    "            # remaining memory locations: all start at 000\n",
    "            \"10\": \"000\",\n",
    "            \"11\": \"000\",\n",
    "            # locations 12-98 omitted for brevity\n",
    "            \"99\": \"000\",\n",
    "        },\n",
    "        \"registers\": {\n",
    "            # all registers start at 0\n",
    "            \"PC\": \"00\",\n",
    "            \"ACC\": \"000\",\n",
    "            \"IR\": \"0\",\n",
    "            \"MAR\": \"00\",\n",
    "            \"MDR\": \"000\",\n",
    "        },\n",
    "    },\n",
    "}"
   ]
  }
 ],
 "metadata": {
  "kernelspec": {
   "display_name": "Python 3",
   "language": "python",
   "name": "python3"
  },
  "language_info": {
   "name": "python",
   "version": "3.12.0"
  }
 },
 "nbformat": 4,
 "nbformat_minor": 2
}
